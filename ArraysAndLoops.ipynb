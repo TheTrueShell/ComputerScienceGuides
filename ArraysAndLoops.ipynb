{
 "cells": [
  {
   "cell_type": "markdown",
   "id": "fc9cacf9",
   "metadata": {},
   "source": [
    "# Beginner's Guide to Arrays, While Loops, and For Loops\n",
    "\n",
    "Welcome to this introductory Python notebook! Here, we'll explore the basics of arrays, while loops, and for loops. \n",
    "Each concept is accompanied by explanations, examples, and exercises to solidify your understanding. \n",
    "Let's dive in and start learning!"
   ]
  },
  {
   "cell_type": "markdown",
   "id": "667d0210",
   "metadata": {},
   "source": [
    "## Arrays\n",
    "\n",
    "An array is a data structure that stores a collection of items. In Python, arrays are often represented using lists.\n",
    "They are useful for storing multiple values in a single variable and can be accessed using indices. Let's look at how to create and use arrays in Python:"
   ]
  },
  {
   "cell_type": "code",
   "execution_count": null,
   "id": "727732e5",
   "metadata": {},
   "outputs": [],
   "source": [
    "# Creating an array\n",
    "fruits = ['apple', 'banana', 'cherry']  # Here, we create a list of fruits\n",
    "\n",
    "# Accessing elements\n",
    "print(fruits[0])  # Outputs 'apple', the first element in the list\n",
    "print(fruits[1])  # Outputs 'banana', the second element\n",
    "print(fruits[2])  # Outputs 'cherry', the third element"
   ]
  },
  {
   "cell_type": "markdown",
   "id": "d2b0dd0b",
   "metadata": {},
   "source": [
    "## While Loops\n",
    "\n",
    "A 'while' loop is a control flow statement that allows code to be executed repeatedly based on a given boolean condition. \n",
    "This loop will continue running as long as the condition remains true. Here’s how you can create a while loop in Python:"
   ]
  },
  {
   "cell_type": "code",
   "execution_count": null,
   "id": "a379a1c5",
   "metadata": {},
   "outputs": [],
   "source": [
    "# While loop example\n",
    "count = 0  # We start with a count of 0\n",
    "while count < 5:  # This loop will run as long as count is less than 5\n",
    "    print(count)  # Prints the current value of count\n",
    "    count += 1  # Increments count by 1"
   ]
  },
  {
   "cell_type": "markdown",
   "id": "d5fd0904",
   "metadata": {},
   "source": [
    "## For Loops\n",
    "\n",
    "A 'for' loop is used for iterating over a sequence (like a list, tuple, or string), which is called iteration. \n",
    "This makes 'for' loops ideal for performing actions on each element in a sequence.\n",
    "\n",
    "### Example 1: Iterating over a List\n",
    "Here, we use a for loop to print each fruit in our fruits list:"
   ]
  },
  {
   "cell_type": "code",
   "execution_count": null,
   "id": "71cbe9dd",
   "metadata": {},
   "outputs": [],
   "source": [
    "# For loop example\n",
    "for fruit in fruits:  # Iterating over each element in the fruits list\n",
    "    print(fruit)  # Prints each fruit in the list"
   ]
  },
  {
   "cell_type": "markdown",
   "id": "25675b74",
   "metadata": {},
   "source": [
    "### Example 2: Using range in For Loops\n",
    "The range function is often used in for loops to repeat an action a specific number of times. \n",
    "Here, we'll print numbers from 0 to 4 using a for loop and the range function:"
   ]
  },
  {
   "cell_type": "code",
   "execution_count": null,
   "id": "3a793360",
   "metadata": {},
   "outputs": [],
   "source": [
    "# For loop with range\n",
    "for i in range(5):  # Iterates over a sequence of numbers from 0 to 4\n",
    "    print(i)  # Prints the current number"
   ]
  },
  {
   "cell_type": "markdown",
   "id": "7d59adb7",
   "metadata": {},
   "source": [
    "For loops with range can also be used to loop through *indexes* of an array as well, similar to a while loop."
   ]
  },
  {
   "cell_type": "code",
   "execution_count": null,
   "id": "b3bbfe9f",
   "metadata": {},
   "outputs": [],
   "source": [
    "print(fruits) # ['apple', 'banana', 'cherry']\n",
    "\n",
    "for i in range(3): # Define upper limit of i as i always starts at 0\n",
    "    print(fruits[i]) # Output the ith index of the array"
   ]
  },
  {
   "cell_type": "markdown",
   "id": "3aa3883e",
   "metadata": {},
   "source": [
    "# 2D Arrays\n",
    "## What is a 2D Array?\n",
    "A 2D array is like a grid or a table. It's a list that contains other lists. Each inner list is like a row in the table.\n",
    "\n",
    "## How to Loop Through a 2D Array in Python\n",
    "In Python, we can use a 2D array by creating a list of lists. To look at each item in this grid, we use two 'for' loops, one inside the other. The first 'for' loop goes through each row, and the second 'for' loop goes through each item in that row.\n",
    "\n",
    "## Example:\n",
    "Let's look at an example. Imagine we have a small grid like this:\n",
    "\n",
    "Row 1: [1, 2, 3]<br>\n",
    "Row 2: [4, 5, 6]<br>\n",
    "Row 3: [7, 8, 9]<br>\n",
    "Here's how we can print each number in this grid:"
   ]
  },
  {
   "cell_type": "code",
   "execution_count": 3,
   "id": "c1d86e84",
   "metadata": {},
   "outputs": [
    {
     "name": "stdout",
     "output_type": "stream",
     "text": [
      "1 2 3 \n",
      "4 5 6 \n",
      "7 8 9 \n"
     ]
    }
   ],
   "source": [
    "# Creating a 2D array (a grid)\n",
    "grid = [[1, 2, 3], [4, 5, 6], [7, 8, 9]]\n",
    "\n",
    "# Looping through the grid with for loops\n",
    "for row in range(len(grid)):  # This loop goes through each row\n",
    "    for col in range(len(grid[row])):  # This loop goes through each item in the row\n",
    "        print(grid[row][col], end=' ')  # Print each item followed by a space\n",
    "    print()  # Print a new line after finishing a row\n"
   ]
  },
  {
   "cell_type": "markdown",
   "id": "4a27801e",
   "metadata": {},
   "source": [
    "## Challenges\n",
    "\n",
    "To solidify your understanding, try solving these challenges. They will help you practice arrays, while loops, and for loops in Python."
   ]
  },
  {
   "cell_type": "code",
   "execution_count": null,
   "id": "739e4c22",
   "metadata": {},
   "outputs": [],
   "source": [
    "# Challenge 1: Modify the array and access the third element (no loops)\n",
    "fruits = ['apple', 'banana', 'cherry', 'orange']  # Modify this list\n",
    "# Write a line of code to print the third element in the list\n",
    "\n",
    "# CODE HERE\n",
    "\n",
    "# Expected Output:\n",
    "# cherry\n"
   ]
  },
  {
   "cell_type": "code",
   "execution_count": null,
   "id": "14f1584b",
   "metadata": {},
   "outputs": [],
   "source": [
    "# Challenge 2: Write a while loop to print numbers from 0 to 10\n",
    "# Your code should repeatedly print a number and increment it until it reaches 10\n",
    "\n",
    "# CODE HERE\n",
    "\n",
    "# Expected Output:\n",
    "# 0\n",
    "# 1\n",
    "# 2\n",
    "# 3\n",
    "# 4\n",
    "# 5\n",
    "# 6\n",
    "# 7\n",
    "# 8\n",
    "# 9\n",
    "# 10"
   ]
  },
  {
   "cell_type": "code",
   "execution_count": null,
   "id": "d1a2ada5",
   "metadata": {},
   "outputs": [],
   "source": [
    "# Challenge 3: Use a for loop to iterate over the array and print each fruit in uppercase\n",
    "# Hint: Use the .upper() method on a string to convert it to uppercase\n",
    "\n",
    "# CODE HERE\n",
    "\n",
    "# Expected Output:\n",
    "# APPLE\n",
    "# BANANA\n",
    "# CHERRY\n",
    "# ORANGE\n"
   ]
  }
 ],
 "metadata": {
  "kernelspec": {
   "display_name": "Python 3",
   "language": "python",
   "name": "python3"
  },
  "language_info": {
   "codemirror_mode": {
    "name": "ipython",
    "version": 3
   },
   "file_extension": ".py",
   "mimetype": "text/x-python",
   "name": "python",
   "nbconvert_exporter": "python",
   "pygments_lexer": "ipython3",
   "version": "3.11.1"
  }
 },
 "nbformat": 4,
 "nbformat_minor": 5
}
